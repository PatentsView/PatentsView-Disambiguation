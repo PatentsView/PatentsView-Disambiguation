{
 "cells": [
  {
   "cell_type": "code",
   "execution_count": null,
   "outputs": [],
   "source": [
    "\n",
    "import pandas as pd\n",
    "import seaborn as sns\n",
    "import glob\n",
    "import os\n",
    "from thefuzz import fuzz\n",
    "from tqdm.notebook import tqdm\n",
    "import numpy as np\n",
    "from thefuzz import fuzz"
   ],
   "metadata": {
    "collapsed": false
   }
  },
  {
   "cell_type": "code",
   "execution_count": null,
   "metadata": {
    "collapsed": true
   },
   "outputs": [],
   "source": [
    "\n",
    "\n",
    "frame_files = ['output/assignee/update_20220630_v7_pp_inp_mod_tfidf/Z_Frame_job-0.csv',\n",
    "               'output/assignee/update_20220630_v7_pp_inp_mod_tfidf/Z_Frame_job-1.csv',\n",
    "               'output/assignee/update_20220630_v7_pp_inp_mod_tfidf/Z_Frame_job-2.csv',\n",
    "               'output/assignee/update_20220630_v7_pp_inp_mod_tfidf/Z_Frame_job-3.csv']\n",
    "Z_frames = []\n",
    "for frame_file in frame_files:\n",
    "    try:\n",
    "        Z_frames.append(pd.read_csv(frame_file, index_col=0))\n",
    "    except FileNotFoundError:\n",
    "        continue\n",
    "Z_frame = pd.concat(Z_frames)\n",
    "\n",
    "Z_frame = Z_frame.assign(cd_cut=pd.cut(Z_frame.distance, [x / 100 for x in range(0, 100, 5)]))\n",
    "\n",
    "tqdm.pandas()\n",
    "\n",
    "\n",
    "def get_subpopulation(frame, term):\n",
    "    return frame[frame.set_1_labels.str.contains(term) | (frame.set_2_labels.str.startswith(term))]\n",
    "\n",
    "\n",
    "def find_max_distance(record):\n",
    "    max_distance = 0\n",
    "    set1 = eval(record.set_1_labels)\n",
    "    set2 = eval(record.set_2_labels)\n",
    "    if len(set1) > 50 or len(set2) > 50:\n",
    "        return np.Inf\n",
    "    for one_item in set1:\n",
    "        for two_item in set2:\n",
    "            distance = 100 - fuzz.partial_token_set_ratio(one_item, two_item)\n",
    "            if distance > max_distance:\n",
    "                max_distance = distance\n",
    "    return max_distance\n",
    "\n",
    "\n",
    "def plot_Z_v_text_distance(Z):\n",
    "    Z = Z.assign(text_distance=Z.progress_apply(find_max_distance, axis=1))\n",
    "\n",
    "    Z = Z.assign(text_cut=pd.cut(Z.text_distance, range(0, 100, 5))\n",
    "                 )\n",
    "    Z = Z.assign(cd_cut=pd.cut(Z.distance, [x / 100 for x in range(0, 100, 5)])\n",
    "                 )\n",
    "\n",
    "    cut = pd.cut(Z.distance, [x / 100 for x in range(0, 100, 2)])\n",
    "\n",
    "    boxdf = Z.groupby(cut).apply(lambda df: df.text_distance.reset_index(drop=True)).unstack(0)\n",
    "\n",
    "    g = sns.boxplot(data=boxdf, orient='v', )\n",
    "    g.figure.set_size_inches(50, 20)\n",
    "\n",
    "\n",
    "plot_Z_v_text_distance(Z_frame)"
   ]
  }
 ],
 "metadata": {
  "kernelspec": {
   "display_name": "Python 3",
   "language": "python",
   "name": "python3"
  },
  "language_info": {
   "codemirror_mode": {
    "name": "ipython",
    "version": 2
   },
   "file_extension": ".py",
   "mimetype": "text/x-python",
   "name": "python",
   "nbconvert_exporter": "python",
   "pygments_lexer": "ipython2",
   "version": "2.7.6"
  }
 },
 "nbformat": 4,
 "nbformat_minor": 0
}
